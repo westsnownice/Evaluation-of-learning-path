{
 "cells": [
  {
   "cell_type": "markdown",
   "metadata": {},
   "source": [
    "### 数据处理部分"
   ]
  },
  {
   "cell_type": "code",
   "execution_count": 1,
   "metadata": {},
   "outputs": [
    {
     "name": "stdout",
     "output_type": "stream",
     "text": [
      "calculating the transition matrix from all the records\n"
     ]
    }
   ],
   "source": [
    "import pandas as pd\n",
    "import numpy as np\n",
    "quiz = pd.read_csv(filepath_or_buffer= \"C:\\\\Users\\\\zhazhang\\\\Desktop\\\\GitHub\\\\quizzResult.csv\")\n",
    "data1 = pd.read_csv(filepath_or_buffer=\"C:\\\\Users\\\\zhazhang\\\\Desktop\\\\GitHub\\\\event_semester1.csv\")\n",
    "exam = pd.read_csv(filepath_or_buffer=\"C:\\\\Users\\\\zhazhang\\\\Desktop\\\\GitHub\\\\exam_result.csv\")\n",
    "data1 = (data1[data1['action'].isin(['Viewed'])])\n",
    "quiz['action'] = \"Submitted\"\n",
    "event = pd.concat([data1[['userId','objectId','action','Timestamp']],quiz[['userId','objectId','action','Timestamp']]])\n",
    "exam['action']='FinalExam'\n",
    "exam['Timestamp'] = 1542835584754 # this is the right timestamp of exam\n",
    "exam['objectId'] = 11209 # I faked an\n",
    "event = pd.concat([event, exam[['userId','objectId','action','Timestamp']]])\n",
    "event = event[event.Timestamp < 1542835584755] # here cut the data at the time just after exam.\n",
    "resourceIndex = {}\n",
    "resourceIndex = {8935: 0, 23133: 1, 316752: 2, 321242: 3, 321240: 4, 8936: 5}\n",
    "def transition_diff(resourceIndex, df_total):\n",
    "    print(\"calculating the transition matrix from all the records\")\n",
    "    n = len(resourceIndex)  # number of states\n",
    "    M = np.zeros((n, n))  # Matrix for all the\n",
    "    UserID = []  # 存储处理的用户的顺序。\n",
    "    actionpace = []\n",
    "    for i in set(df_total['userId']):\n",
    "#         print(\"treating user :\" + i)\n",
    "        i_user = df_total[df_total['userId'].isin([i])]\n",
    "        i_user = i_user.sort_values(by='Timestamp')\n",
    "        UserID.append(i_user)\n",
    "        listResource = []\n",
    "        for j in i_user.objectId:\n",
    "            listResource.append(resourceIndex[j])\n",
    "        actionpace.append(listResource)  # 将进行过的每个用户的学习过程全部记录下来\n",
    "        for (i, j) in zip(listResource, listResource[1:]):\n",
    "            M[i][j] += 1\n",
    "\n",
    "    # print(sum(M))\n",
    "    for row in M:\n",
    "        s = sum(row)\n",
    "        if s > 0:\n",
    "            row[:] = [f / s for f in row]\n",
    "    return M\n",
    "\n",
    "def get_key(dic, value):\n",
    "    \"\"\"\n",
    "    know the value, get keys\n",
    "    \"\"\"\n",
    "    a = [k for k, v in dic.items() if v == value]\n",
    "    return a[0]\n",
    "\n",
    "l = list(resourceIndex.keys())\n",
    "event1 = event[event[\"objectId\"] == int(l[0])]#or event[\"objectId\"] == int(l[1]) or event[\"objectId\"] == int(l[2]) or event[\"objectId\"] == int(l[3]) or event[\"objectId\"] == int(l[4]) or event[\"objectId\"] == int(l[5]) or event[\"objectId\"] == int(l[6])or event[\"objectId\"] == int(l[7])or event[\"objectId\"] == int(l[8]) or event[\"objectId\"] == int(l[9])]\n",
    "event2 = event[event[\"objectId\"] == int(l[1])]\n",
    "event3 = event[event[\"objectId\"] == int(l[2])]\n",
    "event4 = event[event[\"objectId\"] == int(l[3])]\n",
    "event5 = event[event[\"objectId\"] == int(l[4])]\n",
    "event6 = event[event[\"objectId\"] == int(l[5])]\n",
    "event_e = pd.concat([event1,event2,event3,event4,event5,event6])#event7,event8,event9,event10\n",
    "T = transition_diff(resourceIndex, event_e)"
   ]
  },
  {
   "cell_type": "markdown",
   "metadata": {},
   "source": [
    "### 马尔可夫模型"
   ]
  },
  {
   "cell_type": "code",
   "execution_count": 3,
   "metadata": {},
   "outputs": [
    {
     "name": "stdout",
     "output_type": "stream",
     "text": [
      "Start state: 2\n",
      "0\n",
      "1\n",
      "2\n",
      "3\n",
      "4\n",
      "5\n",
      "Possible states: [2, 1, 1, 3, 4, 3, 1]\n",
      "End state after {8935: 0, 23133: 1, 316752: 2, 321242: 3, 321240: 4, 8936: 5} resource: 1\n",
      "Probability of the possible sequence of states: 2.986640295303939e-05\n"
     ]
    }
   ],
   "source": [
    "# 预测状态的马尔可夫模型的函数\n",
    "state = [0,1,2,3,4,5]\n",
    "def study_forecast(resource, T, states):\n",
    "    # 选择初始状态\n",
    "    resourceNow = 2\n",
    "    print(\"Start state: \" + str(resourceNow))\n",
    "    # 应该记录选择的状态序列。这里现在只有初始状态。\n",
    "    activityList = [resourceNow]\n",
    "    i = 0\n",
    "    # 计算 activityList 的概率\n",
    "    prob = 1\n",
    "    while i != 6:\n",
    "        print(i)\n",
    "        change = np.random.choice(list(states), replace=True, p=T[resourceNow])\n",
    "        activityList.append(change)\n",
    "        prob = prob*T[resourceNow][change]\n",
    "        resourceNow = change\n",
    "        i += 1\n",
    "    print(\"Possible states: \" + str(activityList))\n",
    "    print(\"End state after \"+ str(resource) + \" resource: \" + str(resourceNow))\n",
    "    print(\"Probability of the possible sequence of states: \" + str(prob))\n",
    "study_forecast(resourceIndex,T,state)"
   ]
  },
  {
   "cell_type": "markdown",
   "metadata": {},
   "source": [
    "### 最近邻分类模型\n",
    "* how to use clustering to recommended a learning path?\n",
    "* should I use a more complex method to do the recommendation?\n",
    "* "
   ]
  },
  {
   "cell_type": "code",
   "execution_count": 9,
   "metadata": {},
   "outputs": [
    {
     "data": {
      "text/plain": [
       "39"
      ]
     },
     "execution_count": 9,
     "metadata": {},
     "output_type": "execute_result"
    }
   ],
   "source": [
    "len(set(event.objectId))"
   ]
  },
  {
   "cell_type": "code",
   "execution_count": 10,
   "metadata": {},
   "outputs": [
    {
     "data": {
      "text/plain": [
       "9843"
      ]
     },
     "execution_count": 10,
     "metadata": {},
     "output_type": "execute_result"
    }
   ],
   "source": [
    "len(event)"
   ]
  },
  {
   "cell_type": "code",
   "execution_count": null,
   "metadata": {},
   "outputs": [],
   "source": []
  }
 ],
 "metadata": {
  "kernelspec": {
   "display_name": "Python 3",
   "language": "python",
   "name": "python3"
  },
  "language_info": {
   "codemirror_mode": {
    "name": "ipython",
    "version": 3
   },
   "file_extension": ".py",
   "mimetype": "text/x-python",
   "name": "python",
   "nbconvert_exporter": "python",
   "pygments_lexer": "ipython3",
   "version": "3.7.4"
  }
 },
 "nbformat": 4,
 "nbformat_minor": 2
}
