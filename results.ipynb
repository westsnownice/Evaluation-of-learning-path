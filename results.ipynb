{
 "cells": [
  {
   "cell_type": "markdown",
   "metadata": {},
   "source": [
    "# 计算结果 version 1\n",
    "<center>\n",
    "    <img src=\"result.png\", width=\"300\"/>\n",
    "</center>"
   ]
  },
  {
   "cell_type": "code",
   "execution_count": 3,
   "metadata": {},
   "outputs": [
    {
     "name": "stdout",
     "output_type": "stream",
     "text": [
      "5.1875\n"
     ]
    }
   ],
   "source": [
    "# SSLP GS,,SPM\n",
    "print((5+6.3+3.7+5.75)/4) "
   ]
  },
  {
   "cell_type": "code",
   "execution_count": 5,
   "metadata": {},
   "outputs": [
    {
     "name": "stdout",
     "output_type": "stream",
     "text": [
      "5.325\n"
     ]
    }
   ],
   "source": [
    "# SSLP GS,,MC\n",
    "print((5+4.5+5.8+6)/4) "
   ]
  },
  {
   "cell_type": "markdown",
   "metadata": {},
   "source": [
    "# 计算结果 version general"
   ]
  },
  {
   "cell_type": "markdown",
   "metadata": {},
   "source": [
    "分析: GSLP没有任何mentor限制，所以更高分数，SSLP限制稍严，表现稍差。PLP限制最多，应该是表现最差的，但是他寻找mentor的范围更大，所以表现应该和SSLP相仿。   其次是表现。因为SPM会发掘更长路径的pattern，所以对有较长路径的人应该表现更好一些，即在Gs中应该表现最好\n",
    "MC, SPM\n",
    "---\n",
    "* GSSLP BS 0.37  0.35\n",
    "* GSSLP AS 0.43  0.39    \n",
    "* GSSLP GS 0.46  0.44   note that the best is 80% in good for SPM, best for MC is  \n",
    "\n",
    "---\n",
    "* SSLP BS        6.6   9  \n",
    "* SSLP BS(AS+GS)   8.5   8.8 # 8.5> 6.6 because 更近的资料距离，有更远的复习差距  \n",
    "* SSLP AS        7.1  7.9    \n",
    "* SSLP GS        7.9  8.8   note that the best is 80% in good for SPM, best for MC is  \n",
    "\n",
    "----\n",
    "* DLP    3.5  1.37    \n",
    "\n",
    "---\n",
    "* PLP BS  5.4  5.7  \n",
    "* PLP AS  5.6  6.3  \n",
    "* PLP GS  6.8  7.9 "
   ]
  },
  {
   "cell_type": "code",
   "execution_count": 6,
   "metadata": {},
   "outputs": [
    {
     "data": {
      "text/plain": [
       "25.714285714285715"
      ]
     },
     "execution_count": 6,
     "metadata": {},
     "output_type": "execute_result"
    }
   ],
   "source": [
    "[6, 5, 21]\n",
    "[8, 7, 28]"
   ]
  },
  {
   "cell_type": "code",
   "execution_count": 11,
   "metadata": {},
   "outputs": [
    {
     "data": {
      "text/plain": [
       "0.2"
      ]
     },
     "execution_count": 11,
     "metadata": {},
     "output_type": "execute_result"
    }
   ],
   "source": [
    "0.37"
   ]
  },
  {
   "cell_type": "code",
   "execution_count": 12,
   "metadata": {},
   "outputs": [
    {
     "data": {
      "text/plain": [
       "3.0555555555555554"
      ]
     },
     "execution_count": 12,
     "metadata": {},
     "output_type": "execute_result"
    }
   ],
   "source": [
    "(19+18+18 )/3/6"
   ]
  },
  {
   "cell_type": "code",
   "execution_count": null,
   "metadata": {},
   "outputs": [],
   "source": []
  }
 ],
 "metadata": {
  "kernelspec": {
   "display_name": "Python 3",
   "language": "python",
   "name": "python3"
  },
  "language_info": {
   "codemirror_mode": {
    "name": "ipython",
    "version": 3
   },
   "file_extension": ".py",
   "mimetype": "text/x-python",
   "name": "python",
   "nbconvert_exporter": "python",
   "pygments_lexer": "ipython3",
   "version": "3.7.4"
  }
 },
 "nbformat": 4,
 "nbformat_minor": 2
}
