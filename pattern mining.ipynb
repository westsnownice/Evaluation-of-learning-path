{
 "cells": [
  {
   "cell_type": "markdown",
   "metadata": {},
   "source": [
    "### 使用 pattern mining找出所有的pattern，然后按照最常用的组合进行推荐\n",
    "按照学生人数为110计算 实际学生为134，但是有些学生的log不符合要求。"
   ]
  },
  {
   "cell_type": "code",
   "execution_count": 9,
   "metadata": {},
   "outputs": [],
   "source": [
    "from prefixspan import PrefixSpan\n",
    "\n",
    "db = [\n",
    "    [0, 1, 2, 3, 4],\n",
    "    [1, 1, 1, 3, 4],\n",
    "    [2, 1, 2, 2, 0],\n",
    "    [1, 1, 1, 2, 2],\n",
    "]\n",
    "\n",
    "ps = PrefixSpan(db)"
   ]
  },
  {
   "cell_type": "code",
   "execution_count": 12,
   "metadata": {},
   "outputs": [
    {
     "name": "stdout",
     "output_type": "stream",
     "text": [
      "[(2, [0]), (4, [1]), (3, [1, 2]), (2, [1, 2, 2]), (2, [1, 3]), (2, [1, 3, 4]), (2, [1, 4]), (2, [1, 1]), (2, [1, 1, 1]), (3, [2]), (2, [2, 2]), (2, [3]), (2, [3, 4]), (2, [4])]\n"
     ]
    }
   ],
   "source": [
    "print(ps.frequent(2))"
   ]
  },
  {
   "cell_type": "code",
   "execution_count": 45,
   "metadata": {},
   "outputs": [],
   "source": [
    "import re\n",
    "import json\n",
    "import pandas as pd\n",
    "# import datetime\n",
    "import re\n",
    "from collections import Counter\n",
    "import numpy as np\n",
    "import time\n",
    "import math\n",
    "import sys\n",
    "quiz = pd.read_csv(filepath_or_buffer= \"C:\\\\Users\\\\zhazhang\\\\Desktop\\\\GitHub\\\\quizzResult.csv\")\n",
    "data1 = pd.read_csv(filepath_or_buffer=\"C:\\\\Users\\\\zhazhang\\\\Desktop\\\\GitHub\\\\event_semester1.csv\")\n",
    "exam = pd.read_csv(filepath_or_buffer=\"C:\\\\Users\\\\zhazhang\\\\Desktop\\\\GitHub\\\\exam_result.csv\")\n",
    "data1 = (data1[data1['action'].isin(['Viewed'])])\n",
    "quiz.score = quiz.score.map(lambda x: x*10)\n",
    "exam['score'] = exam.score.map(lambda x: (x/18*100))\n",
    "quiz['action'] = \"Submitted\"\n",
    "event = pd.concat([data1[['userId','objectId','action','Timestamp']],quiz[['userId','objectId','action','Timestamp']]])\n",
    "exam['action']='FinalExam'\n",
    "exam['Timestamp'] = 1542835584754#1542835584754 # this is the right timestamp of exam\n",
    "exam['objectId'] = 11209 # I faked an\n",
    "event = pd.concat([event, exam[['userId','objectId','action','Timestamp']]])\n",
    "event = event[event.Timestamp < 1542835584755] # here cut the data at the time just after exam.\n",
    "\"\"\"\n",
    "Here is the treat of event which add the correlated quiz and exam score \n",
    "\"\"\"\n",
    "user_list = list(set(event['userId']))\n",
    "next_score = []\n",
    "quiz1 = list(set(quiz.objectId))[0]\n",
    "quiz2 = list(set(quiz.objectId))[1]\n",
    "exam_time = exam.iloc[0]['Timestamp']\n",
    "user_quized = []\n",
    "# print(len(user_list))\n",
    "for i in user_list:\n",
    "    if ((len(quiz[quiz.userId==i])) == 2) & (i in list(exam.userId)):\n",
    "        #quiz=quiz[quiz.userId!=i]\n",
    "        user_quized.append(i)\n",
    "#print(len(user_list))\n",
    "event = event[event.userId.isin(user_quized)]\n",
    "#print(len(event))\n",
    "for i in event.itertuples():\n",
    "#     print(i)\n",
    "    user = i.userId\n",
    "    timestamp = i.Timestamp\n",
    "    quiz1_time = event[(event.userId == user) & (event.objectId == quiz1)].Timestamp\n",
    "    quiz2_time = event[(event.userId == user) & (event.objectId == quiz2)].Timestamp\n",
    "    slot_1 = (-(timestamp-quiz1_time)).iloc[0]\n",
    "    slot_2 = (-(timestamp-quiz2_time)).iloc[0]\n",
    "    slot_e = -(timestamp-exam_time)\n",
    "    l = [slot_1, slot_2, slot_e] \n",
    "    min0 = 10000000000\n",
    "\n",
    "    for j in range(len(l)):\n",
    "        if (l[j] >= 0) & (l[j]<min0):\n",
    "            min0 = l[j]\n",
    "\n",
    "    if min0 == l[0]:\n",
    "        next_score.append(quiz[(quiz.userId==user)&(quiz.objectId==quiz1)].score.iloc[0])\n",
    "    elif min0 == l[1]:\n",
    "        next_score.append(quiz[(quiz.userId==user)&(quiz.objectId==quiz2)].score.iloc[0])\n",
    "    elif min0 == l[2]:\n",
    "        next_score.append(exam[(exam.userId==user)].score.iloc[0])\n",
    "    else:\n",
    "        next_score.append(exam[(exam.userId==user)].score.iloc[0])\n",
    "\n",
    "event[\"nearest_score\"] = next_score\n",
    "event=event.sort_values(by='Timestamp', ascending=True)\n",
    "resourceIndex = {8935: 0, 8936: 1, 316752: 2, 321242: 3, 321240: 4, 321237:5, 11209:6 }\n",
    "l = list(resourceIndex.keys())\n",
    "event1 = event[event[\"objectId\"] == int(l[0])]\n",
    "#or event[\"objectId\"] == int(l[1]) or event[\"objectId\"] == int(l[2]) or event[\"objectId\"] == int(l[3]) or event[\"objectId\"] == int(l[4]) or event[\"objectId\"] == int(l[5]) or event[\"objectId\"] == int(l[6])or event[\"objectId\"] == int(l[7])or event[\"objectId\"] == int(l[8]) or event[\"objectId\"] == int(l[9])]\n",
    "event2 = event[event[\"objectId\"] == int(l[1])]\n",
    "event3 = event[event[\"objectId\"] == int(l[2])]\n",
    "event4 = event[event[\"objectId\"] == int(l[3])]\n",
    "event5 = event[event[\"objectId\"] == int(l[4])]\n",
    "event6 = event[event[\"objectId\"] == int(l[5])]\n",
    "event7 = event[event[\"objectId\"] == int(l[6])]\n",
    "# event8 = event[event[\"objectId\"] == int(l[7])]\n",
    "# event9 = event[event[\"objectId\"] == int(l[8])]\n",
    "# event10 = event[event[\"objectId\"] == int(l[9])]\n",
    "event = pd.concat([event1,event2,event3,event4,event5,event6,event7])#,event8,event9,event10"
   ]
  },
  {
   "cell_type": "code",
   "execution_count": 46,
   "metadata": {},
   "outputs": [],
   "source": [
    "exam=exam.sort_values(by='score', ascending=False)"
   ]
  },
  {
   "cell_type": "markdown",
   "metadata": {},
   "source": [
    "Here is the traning dataset. We will training the pattern with this part "
   ]
  },
  {
   "cell_type": "code",
   "execution_count": 51,
   "metadata": {},
   "outputs": [
    {
     "name": "stdout",
     "output_type": "stream",
     "text": [
      "student level dividing done\n"
     ]
    }
   ],
   "source": [
    "s_good = [] #top 30%\n",
    "s_normal = []# middle 40%\n",
    "s_bad = []# next 30%\n",
    "for i in range(len(exam)):\n",
    "    if i < 30:\n",
    "        s_good.append(exam.iloc[i][\"userId\"])\n",
    "    if i>=30 & i<70:\n",
    "        s_normal.append(exam.iloc[i][\"userId\"])\n",
    "    elif i>=70 & i<100:\n",
    "        s_bad.append(exam.iloc[i][\"userId\"])\n",
    "        \n",
    "print(\"student level dividing done\")\n",
    "\n",
    "def get_key(dic, value):\n",
    "    \"\"\"\n",
    "    know the value, get keys\n",
    "    \"\"\"\n",
    "    a = [k for k, v in dic.items() if v == value]\n",
    "    return a[0]"
   ]
  },
  {
   "cell_type": "markdown",
   "metadata": {},
   "source": [
    "Training dataset organisation"
   ]
  },
  {
   "cell_type": "code",
   "execution_count": 56,
   "metadata": {},
   "outputs": [],
   "source": [
    "l_good = []\n",
    "l_bad = []\n",
    "l_normal = []\n",
    "for user in s_good:\n",
    "    l_path = []\n",
    "    for i in range(len(event)):\n",
    "        if user==event.iloc[i][\"userId\"]:\n",
    "            l_path.append(event.iloc[i][\"objectId\"])\n",
    "    l_good.append(l_path)\n",
    "for user in s_normal:\n",
    "    l_path = []\n",
    "    for i in range(len(event)):\n",
    "        if user==event.iloc[i][\"userId\"]:\n",
    "            l_path.append(event.iloc[i][\"objectId\"])\n",
    "    l_normal.append(l_path)\n",
    "for user in s_bad:\n",
    "    l_path = []\n",
    "    for i in range(len(event)):\n",
    "        if user==event.iloc[i][\"userId\"]:\n",
    "            l_path.append(event.iloc[i][\"objectId\"])\n",
    "    l_bad.append(l_path)"
   ]
  },
  {
   "cell_type": "markdown",
   "metadata": {},
   "source": [
    "### recommendation def"
   ]
  },
  {
   "cell_type": "code",
   "execution_count": 186,
   "metadata": {},
   "outputs": [
    {
     "name": "stdout",
     "output_type": "stream",
     "text": [
      "pattern with time: [('8935,8936', 11416), ('321237,11209', 11328), ('8935,8935', 8520), ('8936,316752', 8480), ('316752,321237', 8444), ('321237,321237', 8420), ('8936,321237', 7106), ('8935,316752', 5642), ('8935,321237', 4260), ('316752,11209', 4258), ('8936,11209', 2192), ('8935,11209', 1456)]\n",
      "unique pattern: ['8935,8936', '321237,11209', '8936,316752', '316752,321237']\n",
      "begin_node of path: 8935,8936\n",
      "0\n",
      "8935,8936,316752\n",
      "1\n",
      "8935,8936,316752,321237\n",
      "2\n",
      "8935,8936,316752,321237,11209\n",
      "path: 8935,8936,316752,321237,11209\n",
      "8935,8936,316752,321237,11209\n"
     ]
    }
   ],
   "source": [
    "resourcelist = list(set(event.objectId))\n",
    "def recommend(trainingset=l_normal, s_group=s_normal, student=s_normal[0], path_length=5, rl=resourcelist):\n",
    "    \n",
    "    # Here we put the influence or this stdent's learning log bigger. x10\n",
    "    for i in range(10):\n",
    "        trainingset.append(trainingset[s_group.index(student)])\n",
    "    ps = PrefixSpan(trainingset)\n",
    "\n",
    "    pattern = ps.topk(50, filter=lambda patt, matches: len(patt)>1)# pattern lenth should bigger than 1\n",
    "    pattern_time = {} #Here stores all pattern with appear times\n",
    "    \n",
    "    for i,element in enumerate(pattern):\n",
    "        l_s = []# store pattern in this element\n",
    "        s = \"\"\n",
    "        for i in range(len(element[1])):\n",
    "            if i==0:\n",
    "                s=str(element[1][i])\n",
    "            else:\n",
    "                l_s.append(s+\",\"+str(element[1][i]))\n",
    "                s = str(element[1][i])\n",
    "        for j in l_s:\n",
    "            if j in pattern_time.keys():\n",
    "                pattern_time[j]+=element[0]\n",
    "            else:\n",
    "                pattern_time[j]=element[0]\n",
    "                \n",
    "    # ordered pattern in list            \n",
    "    pattern_time = sorted(pattern_time.items(),key = lambda pattern_time:pattern_time[1],reverse=True)\n",
    "    print(\"pattern with time:\",pattern_time)\n",
    "    # delete repeat part\n",
    "    #print(len(pattern_time))\n",
    "    \n",
    "    \"\"\"\n",
    "    Here is deduplication.\n",
    "    we can't delete the item of list in for cycle. It will have 'index out of range problem'. \n",
    "    So we store the repeat index and delete after\n",
    "    \"\"\" \n",
    "    delete_indice = [] \n",
    "    for k1 in range(len(pattern_time)):\n",
    "        starter = pattern_time[k1][0].split(\",\")[0]\n",
    "        ender = pattern_time[k1][0].split(\",\")[1]\n",
    "        if starter == ender:\n",
    "            delete_indice.append(k1)\n",
    "        if pattern_time[k1]==pattern_time[-1]:\n",
    "            break\n",
    "            \n",
    "        for k2 in range(k1+1,len(pattern_time)):\n",
    "            #print(pattern_time[k2])\n",
    "            temps_start = pattern_time[k2][0].split(\",\")[0]\n",
    "            temps_end = pattern_time[k2][0].split(\",\")[1]\n",
    "            if starter == temps_start:\n",
    "                delete_indice.append(pattern_time[k2])\n",
    "            if ender == pattern_time[k2][0].split(\",\")[1]:\n",
    "                delete_indice.append(pattern_time[k2])    \n",
    "                \n",
    "    for  i in set(delete_indice):\n",
    "        if i in pattern_time:\n",
    "            pattern_time.remove(i)\n",
    "        \n",
    "    \"\"\"\n",
    "    Here we organise the path from pattern list.\n",
    "    We should firstly find the head then finish the path.\n",
    "    \"\"\"\n",
    "    element = []\n",
    "       \n",
    "    pattern_result = [x[0] for x in pattern_time] # delete pattern show times, keep pattern\n",
    "    print(\"unique pattern:\",pattern_result)  \n",
    "    store = []\n",
    "    for i in range(len(pattern_result)):\n",
    "        for j in range(len(pattern_result)):\n",
    "            if i==j:\n",
    "                continue\n",
    "            if pattern_result[i].split(\",\")[0] in pattern_result[j]:\n",
    "                store.append(pattern_result[i])\n",
    "    path =list(set(pattern_result).difference(set(store)))[0]\n",
    "    print(\"begin_node of path:\",path)\n",
    "    compt=0\n",
    "    while compt < path_length-2: # First node has two element, so we should add path_length-2\n",
    "        for i in pattern_result:\n",
    "            if i.split(\",\")[0]==path.split(\",\")[-1]:\n",
    "                path+=\",\"+i.split(\",\")[-1]\n",
    "                print(compt)\n",
    "                print(path)\n",
    "                compt+=1\n",
    "    print(\"path:\",path)\n",
    "    return path \n",
    "\n",
    "path = recommend()"
   ]
  },
  {
   "cell_type": "code",
   "execution_count": 89,
   "metadata": {},
   "outputs": [],
   "source": [
    "pattern = ps.topk(30, filter=lambda patt, matches: len(patt)>1)"
   ]
  },
  {
   "cell_type": "code",
   "execution_count": 130,
   "metadata": {},
   "outputs": [
    {
     "data": {
      "text/plain": [
       "['8935,8936', '321237,11209', '8936,321237', '316752,11209']"
      ]
     },
     "execution_count": 130,
     "metadata": {},
     "output_type": "execute_result"
    }
   ],
   "source": [
    "a =  [('8935,8936', 2792), ('321237,11209', 2186), ('8936,321237', 1654), ('316752,11209', 1092)]\n",
    "b = [x[0] for x in a]\n",
    "b"
   ]
  },
  {
   "cell_type": "code",
   "execution_count": 141,
   "metadata": {},
   "outputs": [
    {
     "data": {
      "text/plain": [
       "[2]"
      ]
     },
     "execution_count": 141,
     "metadata": {},
     "output_type": "execute_result"
    }
   ],
   "source": [
    "a = [2,]\n",
    "b = [1,2]\n",
    "b[1:]"
   ]
  },
  {
   "cell_type": "code",
   "execution_count": null,
   "metadata": {},
   "outputs": [],
   "source": []
  }
 ],
 "metadata": {
  "kernelspec": {
   "display_name": "Python 3",
   "language": "python",
   "name": "python3"
  },
  "language_info": {
   "codemirror_mode": {
    "name": "ipython",
    "version": 3
   },
   "file_extension": ".py",
   "mimetype": "text/x-python",
   "name": "python",
   "nbconvert_exporter": "python",
   "pygments_lexer": "ipython3",
   "version": "3.7.4"
  }
 },
 "nbformat": 4,
 "nbformat_minor": 2
}
